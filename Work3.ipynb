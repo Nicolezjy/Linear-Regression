{
 "cells": [
  {
   "cell_type": "code",
   "execution_count": 10,
   "metadata": {},
   "outputs": [
    {
     "name": "stdout",
     "output_type": "stream",
     "text": [
      "Best alpha : 0.0005835919312872377\n"
     ]
    },
    {
     "data": {
      "image/png": "[encoded data removed]",
      "text/plain": [
       "<Figure size 432x288 with 1 Axes>"
      ]
     },
     "metadata": {},
     "output_type": "display_data"
    },
    {
     "name": "stdout",
     "output_type": "stream",
     "text": [
      "cv of rmse : 0.6620958973317362\n",
      "RMSE on Training set : 0.3993192230178992\n",
      "RMSE on Test set : 0.560513167548579\n",
      "r2_score on Training set : 0.8405441581283812\n",
      "r2_score on Test set : 0.6858249890046586\n",
      "<class 'pandas.core.frame.DataFrame'>\n",
      "RangeIndex: 366 entries, 0 to 365\n",
      "Data columns (total 1 columns):\n",
      "cnt    366 non-null float64\n",
      "dtypes: float64(1)\n",
      "memory usage: 2.9 KB\n"
     ]
    }
   ],
   "source": [
    "import pandas as pd\n",
    "import numpy as np\n",
    "import matplotlib.pyplot as plt\n",
    "\n",
    "from sklearn.linear_model import LinearRegression, RidgeCV, LassoCV, ElasticNetCV\n",
    "from sklearn.metrics import mean_squared_error\n",
    "from sklearn.metrics import r2_score  \n",
    "\n",
    "\n",
    "#数据读取及处理\n",
    "path='C:/Users/zjy/Desktop/Source/Python/Code/Trianing/W1/'\n",
    "data=pd.read_csv(path+\"LR_day.csv\")\n",
    "data = data.drop(['instant'], axis = 1)\n",
    "\n",
    "#训练集数据\n",
    "train = data[data.yr ==0]\n",
    "X_train=train.drop(['cnt'],axis=1).values\n",
    "y_train = train['cnt'].values\n",
    "\n",
    "#训练集标准化\n",
    "mean_y = y_train.mean()\n",
    "std_y = y_train.std()\n",
    "y_train = (y_train - mean_y)/std_y\n",
    "\n",
    "#选择2012年的数据为测试数据\n",
    "test = data[data.yr == 1]\n",
    "X_test=test.drop(['cnt'],axis=1).values\n",
    "y_test = test['cnt'].values\n",
    "#测试集标准化\n",
    "mean_y = y_test.mean()\n",
    "std_y = y_test.std()\n",
    "y_test = (y_test - mean_y)/std_y\n",
    "mean_test_y = y_test.mean()\n",
    "mean_diff = mean_test_y;\n",
    "\n",
    "# Lasso回归\n",
    "lasso = LassoCV()\n",
    "lasso.fit(X_train, y_train)\n",
    "alpha = lasso.alpha_\n",
    "print(\"Best alpha :\", alpha)\n",
    "\n",
    "mses = np.mean(lasso.mse_path_, axis = 1)\n",
    "plt.plot(np.log10(lasso.alphas_), mses) \n",
    "#plt.plot(np.log10(lasso.alphas_)*np.ones(3), [0.3, 0.4, 1.0])\n",
    "plt.xlabel('log(alpha)')\n",
    "plt.ylabel('mse')\n",
    "plt.show()    \n",
    "\n",
    "mse_cv = np.mean(lasso.mse_path_, axis = 1)\n",
    "rmse_cv = np.sqrt(mse_cv)\n",
    "print(\"cv of rmse :\", min(rmse_cv))\n",
    "\n",
    "# Plot \n",
    "y_train_pred = lasso.predict(X_train)\n",
    "rmse_train = np.sqrt(mean_squared_error(y_train,y_train_pred))\n",
    "print(\"RMSE on Training set :\", rmse_train)\n",
    "\n",
    "#测试集评估及提交\n",
    "y_test_pred = lasso.predict(X_test)\n",
    "y_test_pred += mean_diff\n",
    "\n",
    "rmse_test = np.sqrt(mean_squared_error(y_test,y_test_pred))\n",
    "print(\"RMSE on Test set :\", rmse_test)\n",
    "\n",
    "r2_score_train = r2_score(y_train,y_train_pred)\n",
    "r2_score_test = r2_score(y_test,y_test_pred)\n",
    "print(\"r2_score on Training set :\", r2_score_train)\n",
    "print(\"r2_score on Test set :\", r2_score_test)\n",
    "\n",
    "y_test_pred = lasso.predict(X_test)\n",
    "y_test_pred += mean_diff\n",
    "y_test_pred = y_test_pred * std_y +  mean_y\n",
    "\n",
    "#生成提交测试结果\n",
    "df = pd.DataFrame({'cnt':y_test_pred})\n",
    "df.to_csv('submission.csv')\n",
    "\n",
    "df.info()"
   ]
  },
  {
   "cell_type": "code",
   "execution_count": null,
   "metadata": {},
   "outputs": [],
   "source": []
  }
 ],
 "metadata": {
  "kernelspec": {
   "display_name": "Python 3",
   "language": "python",
   "name": "python3"
  },
  "language_info": {
   "codemirror_mode": {
    "name": "ipython",
    "version": 3
   },
   "file_extension": ".py",
   "mimetype": "text/x-python",
   "name": "python",
   "nbconvert_exporter": "python",
   "pygments_lexer": "ipython3",
   "version": "3.6.5"
  }
 },
 "nbformat": 4,
 "nbformat_minor": 2
}
