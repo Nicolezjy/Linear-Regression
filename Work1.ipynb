{
 "cells": [
  {
   "cell_type": "code",
   "execution_count": 29,
   "metadata": {},
   "outputs": [
    {
     "name": "stdout",
     "output_type": "stream",
     "text": [
      "RMSE on Training set : 0.3991691259362955\n",
      "RMSE on Test set : 0.5666501791523377\n",
      "r2_score on Training set : 0.8406640088992539\n",
      "r2_score on Test set : 0.6789075744666235\n"
     ]
    }
   ],
   "source": [
    "import pandas as pd\n",
    "import numpy as np\n",
    "import matplotlib.pyplot as plt\n",
    "\n",
    "from sklearn.linear_model import LinearRegression, RidgeCV, LassoCV, ElasticNetCV\n",
    "from sklearn.metrics import mean_squared_error\n",
    "from sklearn.metrics import r2_score  \n",
    "\n",
    "\n",
    "#数据读取及处理\n",
    "path='C:/Users/zjy/Desktop/Source/Python/Code/Trianing/W1/'\n",
    "data=pd.read_csv(path+\"LR_day.csv\")\n",
    "data = data.drop(['instant'], axis = 1)\n",
    "\n",
    "#训练集数据\n",
    "train = data[data.yr ==0]\n",
    "X_train=train.drop(['cnt'],axis=1).values\n",
    "y_train = train['cnt'].values\n",
    "\n",
    "#训练集标准化\n",
    "mean_y = y_train.mean()\n",
    "std_y = y_train.std()\n",
    "y_train = (y_train - mean_y)/std_y\n",
    "\n",
    "#选择2012年的数据为测试数据\n",
    "test = data[data.yr == 1]\n",
    "X_test=test.drop(['cnt'],axis=1).values\n",
    "y_test = test['cnt'].values\n",
    "#测试集标准化\n",
    "mean_y = y_test.mean()\n",
    "std_y = y_test.std()\n",
    "y_test = (y_test - mean_y)/std_y\n",
    "mean_test_y = y_test.mean()\n",
    "mean_diff = mean_test_y;\n",
    "\n",
    "#最小二乘线性回归\n",
    "lr = LinearRegression()\n",
    "lr.fit(X_train, y_train)\n",
    "\n",
    "y_train_pred = lr.predict(X_train)\n",
    "y_test_pred = lr.predict(X_test)\n",
    "y_test_pred += mean_diff\n",
    "\n",
    "rmse_train = np.sqrt(mean_squared_error(y_train,y_train_pred))\n",
    "rmse_test = np.sqrt(mean_squared_error(y_test,y_test_pred))\n",
    "print(\"RMSE on Training set :\", rmse_train)\n",
    "print(\"RMSE on Test set :\", rmse_test)\n",
    "\n",
    "r2_score_train = r2_score(y_train,y_train_pred)\n",
    "r2_score_test = r2_score(y_test,y_test_pred)\n",
    "print(\"r2_score on Training set :\", r2_score_train)\n",
    "print(\"r2_score on Test set :\", r2_score_test)\n"
   ]
  }
 ],
 "metadata": {
  "kernelspec": {
   "display_name": "Python 3",
   "language": "python",
   "name": "python3"
  },
  "language_info": {
   "codemirror_mode": {
    "name": "ipython",
    "version": 3
   },
   "file_extension": ".py",
   "mimetype": "text/x-python",
   "name": "python",
   "nbconvert_exporter": "python",
   "pygments_lexer": "ipython3",
   "version": "3.6.5"
  }
 },
 "nbformat": 4,
 "nbformat_minor": 2
}
